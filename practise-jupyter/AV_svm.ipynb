{
 "cells": [
  {
   "cell_type": "code",
   "execution_count": 1,
   "metadata": {
    "collapsed": false
   },
   "outputs": [],
   "source": [
    "from sklearn import cross_validation\n",
    "from sklearn.ensemble import RandomForestClassifier\n",
    "from sklearn.linear_model import LogisticRegression\n",
    "from sklearn.neighbors import KNeighborsClassifier\n",
    "from sklearn.ensemble import (ExtraTreesClassifier,AdaBoostClassifier,GradientBoostingClassifier)\n",
    "from sklearn.tree import DecisionTreeClassifier\n",
    "import pandas\n",
    "import re\n",
    "import brew\n",
    "from brew.base import Ensemble\n",
    "from brew.base import EnsembleClassifier\n",
    "from brew.combination.combiner import Combiner\n",
    "import xgboost as xgb\n",
    "from sklearn.svm import SVC"
   ]
  },
  {
   "cell_type": "code",
   "execution_count": 2,
   "metadata": {
    "collapsed": false
   },
   "outputs": [],
   "source": [
    "train = pandas.read_csv(\"Train_Fyxd0t8.csv\")"
   ]
  },
  {
   "cell_type": "code",
   "execution_count": 3,
   "metadata": {
    "collapsed": false
   },
   "outputs": [
    {
     "name": "stdout",
     "output_type": "stream",
     "text": [
      "[0 1 2]\n"
     ]
    }
   ],
   "source": [
    "print(train[\"Crop_Damage\"].unique())"
   ]
  },
  {
   "cell_type": "code",
   "execution_count": 4,
   "metadata": {
    "collapsed": true
   },
   "outputs": [],
   "source": [
    "train[\"Number_Weeks_Used\"] = train[\"Number_Weeks_Used\"].fillna(train[\"Number_Weeks_Used\"].mean())"
   ]
  },
  {
   "cell_type": "code",
   "execution_count": 5,
   "metadata": {
    "collapsed": false
   },
   "outputs": [],
   "source": [
    "predictors = [\"Estimated_Insects_Count\",\"Crop_Type\",\"Soil_Type\",\"Pesticide_Use_Category\",\"Number_Doses_Week\",\"Number_Weeks_Used\",\"Number_Weeks_Quit\",\"Season\"]"
   ]
  },
  {
   "cell_type": "code",
   "execution_count": 6,
   "metadata": {
    "collapsed": true
   },
   "outputs": [],
   "source": [
    "test = pandas.read_csv(\"Test_C1XBIYq.csv\")"
   ]
  },
  {
   "cell_type": "code",
   "execution_count": 7,
   "metadata": {
    "collapsed": false
   },
   "outputs": [
    {
     "name": "stdout",
     "output_type": "stream",
     "text": [
      "[ nan   0.  20.  19.  10.  14.  22.  13.  26.  17.  15.  25.  18.  29.  23.\n",
      "  27.  34.  16.  35.  28.  21.  12.  31.  33.  24.  36.  38.  30.  32.   6.\n",
      "  41.   7.  37.  40.  39.  45.  47.  42.  43.  44.  50.  52.  48.  46.  49.\n",
      "  56.  57.  54.  51.  53.  58.  59.  64.  62.   5.   9.  55.   8.  11.  61.\n",
      "  60.  65.  67.  66.  63.]\n"
     ]
    }
   ],
   "source": [
    "print(test[\"Number_Weeks_Used\"].unique())"
   ]
  },
  {
   "cell_type": "code",
   "execution_count": 8,
   "metadata": {
    "collapsed": true
   },
   "outputs": [],
   "source": [
    "test[\"Number_Weeks_Used\"] = test[\"Number_Weeks_Used\"].fillna(test[\"Number_Weeks_Used\"].mean())"
   ]
  },
  {
   "cell_type": "code",
   "execution_count": 9,
   "metadata": {
    "collapsed": false
   },
   "outputs": [],
   "source": [
    "alg = SVC(C=0.5,kernel='rbf')"
   ]
  },
  {
   "cell_type": "code",
   "execution_count": 10,
   "metadata": {
    "collapsed": false
   },
   "outputs": [
    {
     "name": "stdout",
     "output_type": "stream",
     "text": [
      "0.841015999221\n"
     ]
    }
   ],
   "source": [
    "scores = cross_validation.cross_val_score(alg, train[predictors], train[\"Crop_Damage\"], cv=3)\n",
    "print(scores.mean())"
   ]
  },
  {
   "cell_type": "code",
   "execution_count": null,
   "metadata": {
    "collapsed": false
   },
   "outputs": [],
   "source": [
    "alg.fit(train[predictors],train[\"Crop_Damage\"])"
   ]
  },
  {
   "cell_type": "code",
   "execution_count": 19,
   "metadata": {
    "collapsed": false
   },
   "outputs": [
    {
     "name": "stdout",
     "output_type": "stream",
     "text": [
      "[ 0.26379972  0.02096105  0.0526775   0.06317867  0.11860541  0.24969885\n",
      "  0.12242786  0.10865093]\n"
     ]
    }
   ],
   "source": [
    "print(alg.feature_importances_)"
   ]
  },
  {
   "cell_type": "code",
   "execution_count": 20,
   "metadata": {
    "collapsed": true
   },
   "outputs": [],
   "source": [
    "predictions = alg.predict(test[predictors])"
   ]
  },
  {
   "cell_type": "code",
   "execution_count": 22,
   "metadata": {
    "collapsed": true
   },
   "outputs": [],
   "source": [
    "submission = pandas.DataFrame({\n",
    "        \"Crop_Damage\": predictions,\n",
    "        \"ID\": test[\"ID\"],\n",
    "    })"
   ]
  },
  {
   "cell_type": "code",
   "execution_count": 23,
   "metadata": {
    "collapsed": true
   },
   "outputs": [],
   "source": [
    "submission.to_csv(\"AV_decision.csv\")"
   ]
  },
  {
   "cell_type": "code",
   "execution_count": null,
   "metadata": {
    "collapsed": true
   },
   "outputs": [],
   "source": []
  }
 ],
 "metadata": {
  "kernelspec": {
   "display_name": "Python 2",
   "language": "python",
   "name": "python2"
  },
  "language_info": {
   "codemirror_mode": {
    "name": "ipython",
    "version": 2
   },
   "file_extension": ".py",
   "mimetype": "text/x-python",
   "name": "python",
   "nbconvert_exporter": "python",
   "pygments_lexer": "ipython2",
   "version": "2.7.6"
  }
 },
 "nbformat": 4,
 "nbformat_minor": 0
}
