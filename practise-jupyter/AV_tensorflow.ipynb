{
 "cells": [
  {
   "cell_type": "code",
   "execution_count": 76,
   "metadata": {
    "collapsed": false
   },
   "outputs": [],
   "source": [
    "from sklearn import cross_validation\n",
    "from sklearn.ensemble import RandomForestClassifier\n",
    "from sklearn.linear_model import LogisticRegression\n",
    "import pandas\n",
    "import skflow"
   ]
  },
  {
   "cell_type": "code",
   "execution_count": 77,
   "metadata": {
    "collapsed": false
   },
   "outputs": [],
   "source": [
    "train = pandas.read_csv(\"Train_Fyxd0t8.csv\")"
   ]
  },
  {
   "cell_type": "code",
   "execution_count": 78,
   "metadata": {
    "collapsed": false
   },
   "outputs": [
    {
     "name": "stdout",
     "output_type": "stream",
     "text": [
      "[0 1 2]\n"
     ]
    }
   ],
   "source": [
    "print(train[\"Crop_Damage\"].unique())"
   ]
  },
  {
   "cell_type": "code",
   "execution_count": 79,
   "metadata": {
    "collapsed": true
   },
   "outputs": [],
   "source": [
    "train[\"Number_Weeks_Used\"] = train[\"Number_Weeks_Used\"].fillna(train[\"Number_Weeks_Used\"].mean())"
   ]
  },
  {
   "cell_type": "code",
   "execution_count": 80,
   "metadata": {
    "collapsed": false
   },
   "outputs": [],
   "source": [
    "predictors = [\"Estimated_Insects_Count\",\"Crop_Type\",\"Soil_Type\",\"Pesticide_Use_Category\",\"Number_Doses_Week\",\"Number_Weeks_Used\",\"Number_Weeks_Quit\",\"Season\"]"
   ]
  },
  {
   "cell_type": "code",
   "execution_count": 81,
   "metadata": {
    "collapsed": true
   },
   "outputs": [],
   "source": [
    "test = pandas.read_csv(\"Test_C1XBIYq.csv\")"
   ]
  },
  {
   "cell_type": "code",
   "execution_count": 82,
   "metadata": {
    "collapsed": false
   },
   "outputs": [
    {
     "name": "stdout",
     "output_type": "stream",
     "text": [
      "[ nan   0.  20.  19.  10.  14.  22.  13.  26.  17.  15.  25.  18.  29.  23.\n",
      "  27.  34.  16.  35.  28.  21.  12.  31.  33.  24.  36.  38.  30.  32.   6.\n",
      "  41.   7.  37.  40.  39.  45.  47.  42.  43.  44.  50.  52.  48.  46.  49.\n",
      "  56.  57.  54.  51.  53.  58.  59.  64.  62.   5.   9.  55.   8.  11.  61.\n",
      "  60.  65.  67.  66.  63.]\n"
     ]
    }
   ],
   "source": [
    "print(test[\"Number_Weeks_Used\"].unique())"
   ]
  },
  {
   "cell_type": "code",
   "execution_count": 83,
   "metadata": {
    "collapsed": true
   },
   "outputs": [],
   "source": [
    "test[\"Number_Weeks_Used\"] = test[\"Number_Weeks_Used\"].fillna(test[\"Number_Weeks_Used\"].mean())"
   ]
  },
  {
   "cell_type": "code",
   "execution_count": 99,
   "metadata": {
    "collapsed": false
   },
   "outputs": [],
   "source": [
    "alg = skflow.TensorFlowDNNClassifier(hidden_units=[100, 200, 100], n_classes=3, steps=2000)"
   ]
  },
  {
   "cell_type": "code",
   "execution_count": 105,
   "metadata": {
    "collapsed": false
   },
   "outputs": [
    {
     "name": "stdout",
     "output_type": "stream",
     "text": [
      "Step #1, avg. loss: 23.61396\n",
      "Step #201, avg. loss: 27.79378\n",
      "Step #401, avg. loss: 0.51194\n",
      "Step #601, avg. loss: 0.52448\n",
      "Step #801, avg. loss: 0.53600\n",
      "Step #1001, avg. loss: 0.51156\n",
      "Step #1201, avg. loss: 0.52884\n",
      "Step #1401, avg. loss: 0.52941\n",
      "Step #1601, avg. loss: 0.52776\n",
      "Step #1801, avg. loss: 0.50936\n",
      "Step #1, avg. loss: 49.70878\n",
      "Step #201, avg. loss: 24.13187\n",
      "Step #401, avg. loss: 0.53797\n",
      "Step #601, avg. loss: 0.53024\n",
      "Step #801, avg. loss: 0.52173\n",
      "Step #1001, avg. loss: 0.51132\n",
      "Step #1201, avg. loss: 0.51857\n",
      "Step #1401, avg. loss: 0.52075\n",
      "Step #1601, avg. loss: 0.52234\n",
      "Step #1801, avg. loss: 0.51770\n",
      "Step #1, avg. loss: 47.38721\n",
      "Step #201, avg. loss: 27.50201\n",
      "Step #401, avg. loss: 0.51984\n",
      "Step #601, avg. loss: 0.52375\n",
      "Step #801, avg. loss: 0.51671\n",
      "Step #1001, avg. loss: 0.51447\n",
      "Step #1201, avg. loss: 0.51058\n",
      "Step #1401, avg. loss: 0.52179\n",
      "Step #1601, avg. loss: 0.50712\n",
      "Step #1801, avg. loss: 0.52762\n",
      "0.835467825281\n"
     ]
    }
   ],
   "source": [
    "scores = cross_validation.cross_val_score(alg, train[predictors], train[\"Crop_Damage\"], cv=3)\n",
    "print(scores.mean())"
   ]
  },
  {
   "cell_type": "code",
   "execution_count": 101,
   "metadata": {
    "collapsed": false
   },
   "outputs": [
    {
     "name": "stdout",
     "output_type": "stream",
     "text": [
      "Step #1, avg. loss: 36.81222\n",
      "Step #201, avg. loss: 26.12512\n",
      "Step #401, avg. loss: 0.52096\n",
      "Step #601, avg. loss: 0.56016\n",
      "Step #801, avg. loss: 0.51184\n",
      "Step #1001, avg. loss: 0.51740\n",
      "Step #1201, avg. loss: 0.50145\n",
      "Step #1401, avg. loss: 0.51870\n",
      "Step #1601, avg. loss: 0.53623\n",
      "Step #1801, avg. loss: 0.52005\n"
     ]
    },
    {
     "data": {
      "text/plain": [
       "TensorFlowDNNClassifier(batch_size=32, continue_training=False,\n",
       "            early_stopping_rounds=None, hidden_units=[100, 200, 100],\n",
       "            keep_checkpoint_every_n_hours=10000, learning_rate=0.1,\n",
       "            max_to_keep=5, n_classes=3, optimizer='SGD', steps=2000,\n",
       "            tf_master='', tf_random_seed=42, verbose=1)"
      ]
     },
     "execution_count": 101,
     "metadata": {},
     "output_type": "execute_result"
    }
   ],
   "source": [
    "alg.fit(train[predictors],train[\"Crop_Damage\"])"
   ]
  },
  {
   "cell_type": "code",
   "execution_count": 102,
   "metadata": {
    "collapsed": true
   },
   "outputs": [],
   "source": [
    "predictions = alg.predict(test[predictors])"
   ]
  },
  {
   "cell_type": "code",
   "execution_count": 103,
   "metadata": {
    "collapsed": true
   },
   "outputs": [],
   "source": [
    "submission = pandas.DataFrame({\n",
    "        \"Crop_Damage\": predictions,\n",
    "        \"ID\": test[\"ID\"],\n",
    "    })"
   ]
  },
  {
   "cell_type": "code",
   "execution_count": 104,
   "metadata": {
    "collapsed": true
   },
   "outputs": [],
   "source": [
    "submission.to_csv(\"AV_Last_Man_Standing.csv\")"
   ]
  },
  {
   "cell_type": "code",
   "execution_count": null,
   "metadata": {
    "collapsed": true
   },
   "outputs": [],
   "source": []
  }
 ],
 "metadata": {
  "kernelspec": {
   "display_name": "Python 2",
   "language": "python",
   "name": "python2"
  },
  "language_info": {
   "codemirror_mode": {
    "name": "ipython",
    "version": 2
   },
   "file_extension": ".py",
   "mimetype": "text/x-python",
   "name": "python",
   "nbconvert_exporter": "python",
   "pygments_lexer": "ipython2",
   "version": "2.7.6"
  }
 },
 "nbformat": 4,
 "nbformat_minor": 0
}
