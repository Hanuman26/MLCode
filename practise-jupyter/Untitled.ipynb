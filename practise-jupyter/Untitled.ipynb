{
 "cells": [
  {
   "cell_type": "code",
   "execution_count": 1,
   "metadata": {
    "collapsed": true
   },
   "outputs": [],
   "source": [
    "import pandas"
   ]
  },
  {
   "cell_type": "code",
   "execution_count": 11,
   "metadata": {
    "collapsed": true
   },
   "outputs": [],
   "source": [
    "#df - dataframe with results of 3 regressors and true output\n",
    "#from sklearn linear_model\n",
    "#stacker= linear_model.LinearRegression()\n",
    "#stacker.fit(df[['predictedSVR', 'predictedLASSO', 'predictedGBR']], df['predicted'])\n",
    "df1 = pandas.read_csv(\"AV_Last_Man_Standing.csv\")\n"
   ]
  },
  {
   "cell_type": "code",
   "execution_count": 12,
   "metadata": {
    "collapsed": false
   },
   "outputs": [],
   "source": [
    "df2 = pandas.read_csv(\"AV_xgboost_mean.csv\")"
   ]
  },
  {
   "cell_type": "code",
   "execution_count": 13,
   "metadata": {
    "collapsed": true
   },
   "outputs": [],
   "source": [
    "df3 = pandas.read_csv(\"AV_xgboost_train1.csv\")"
   ]
  },
  {
   "cell_type": "code",
   "execution_count": 14,
   "metadata": {
    "collapsed": false
   },
   "outputs": [],
   "source": [
    "dfs = pandas.concat([df1,df2,df3],axis=1)"
   ]
  },
  {
   "cell_type": "code",
   "execution_count": 15,
   "metadata": {
    "collapsed": false
   },
   "outputs": [
    {
     "name": "stdout",
     "output_type": "stream",
     "text": [
      "   Unnamed: 0  Crop_Damage         ID  Unnamed: 0  Crop_Damage         ID  \\\n",
      "0           0            1  F00000002           0            1  F00000002   \n",
      "1           1            1  F00000007           1            1  F00000007   \n",
      "2           2            1  F00000011           2            1  F00000011   \n",
      "3           3            1  F00000013           3            1  F00000013   \n",
      "4           4            1  F00000014           4            1  F00000014   \n",
      "\n",
      "   Unnamed: 0  Crop_Damage         ID  \n",
      "0           0            1  F00000002  \n",
      "1           1            1  F00000007  \n",
      "2           2            1  F00000011  \n",
      "3           3            1  F00000013  \n",
      "4           4            1  F00000014  \n"
     ]
    }
   ],
   "source": [
    "print(dfs.head(5))"
   ]
  },
  {
   "cell_type": "code",
   "execution_count": 18,
   "metadata": {
    "collapsed": false
   },
   "outputs": [],
   "source": [
    "mrgl = pandas.merge(left=df1,right=df2, how='left', left_on='ID', right_on='ID')"
   ]
  },
  {
   "cell_type": "code",
   "execution_count": 19,
   "metadata": {
    "collapsed": false
   },
   "outputs": [
    {
     "name": "stdout",
     "output_type": "stream",
     "text": [
      "   Unnamed: 0_x  Crop_Damage_x         ID  Unnamed: 0_y  Crop_Damage_y\n",
      "0             0              1  F00000002             0              1\n",
      "1             1              1  F00000007             1              1\n",
      "2             2              1  F00000011             2              1\n",
      "3             3              1  F00000013             3              1\n",
      "4             4              1  F00000014             4              1\n"
     ]
    }
   ],
   "source": [
    "print(mrgl.head(5))"
   ]
  },
  {
   "cell_type": "code",
   "execution_count": null,
   "metadata": {
    "collapsed": true
   },
   "outputs": [],
   "source": []
  }
 ],
 "metadata": {
  "kernelspec": {
   "display_name": "Python 2",
   "language": "python",
   "name": "python2"
  },
  "language_info": {
   "codemirror_mode": {
    "name": "ipython",
    "version": 2
   },
   "file_extension": ".py",
   "mimetype": "text/x-python",
   "name": "python",
   "nbconvert_exporter": "python",
   "pygments_lexer": "ipython2",
   "version": "2.7.6"
  }
 },
 "nbformat": 4,
 "nbformat_minor": 0
}
